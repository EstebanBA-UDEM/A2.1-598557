{
 "cells": [
  {
   "cell_type": "markdown",
   "metadata": {},
   "source": [
    "<h4>Jesus Esteban Bustamante Apodaca\n",
    "\n",
    "A2.1 Regresión logística y validación cruzada</h4>\n",
    "<h5>1. Importa los datos a tu ambiente de trabajo. Especifica qué variable utilizarás como\n",
    "variable de salida, debe tratarse de una variable binaria. Si no hay ninguna variable\n",
    "binaria de interés, binariza la variable de salida que utilizaste en el proyecto (si trataste\n",
    "de predecir el precio de las casas, genera una variable que indique si una casa cuesta\n",
    "más que cierto monto, o menos).</h5>"
   ]
  },
  {
   "cell_type": "code",
   "execution_count": 121,
   "metadata": {},
   "outputs": [
    {
     "name": "stdout",
     "output_type": "stream",
     "text": [
      "Primeras filas: \n",
      "       price  bedrooms  bathrooms  sqft_living  sqft_lot  floors  waterfront  \\\n",
      "0   376000.0       3.0       2.00         1340      1384     3.0           0   \n",
      "1   800000.0       4.0       3.25         3540    159430     2.0           0   \n",
      "2  2238888.0       5.0       6.50         7270    130017     2.0           0   \n",
      "3   324000.0       3.0       2.25          998       904     2.0           0   \n",
      "4   549900.0       5.0       2.75         3060      7015     1.0           0   \n",
      "\n",
      "   view  condition  sqft_above  sqft_basement  yr_built  HighPrice  \n",
      "0     0          3        1340              0      2008          0  \n",
      "1     0          3        3540              0      2007          1  \n",
      "2     0          3        6420            850      2010          1  \n",
      "3     0          3         798            200      2007          0  \n",
      "4     0          5        1600           1460      1979          1  \n"
     ]
    }
   ],
   "source": [
    "import pandas as pd\n",
    "import numpy as np\n",
    "import seaborn as sns\n",
    "import matplotlib.pyplot as plt\n",
    "df = pd.read_csv('USA Housing Dataset.csv')\n",
    "#Para la variabla de salida, seria el precio pero binarizado ya que no hay salidas binarias de interes en el datasheet\n",
    "medianaPrecio = df['price'].median()\n",
    "#Se crea una variable \"HighPrice\" que representa de manera binaria si el precio va mas alla de la mediana o no\n",
    "df['HighPrice'] = (df['price'] > medianaPrecio).astype(int) \n",
    "#Eliminacion de variables cualitativas que no tienen realmente ninguna relevancia\n",
    "df = df.drop(columns=['date', 'street', 'city', 'statezip', 'country', 'yr_renovated'])\n",
    "print(\"Primeras filas: \")\n",
    "print(df.head())"
   ]
  },
  {
   "cell_type": "markdown",
   "metadata": {},
   "source": [
    "<h5>2. Separa los datos en entrenamiento y prueba, con una relación de 80/20. Asegúrate de\n",
    "mantener un balance de clases (es decir, si en la base de datos hay 70% de\n",
    "observaciones de clase 0 y 30% de observaciones de clase 1, deberá mantenerse una\n",
    "proporción muy similar tanto en los datos de entrenamiento como en los de prueba), e\n",
    "imprime en consola las proporciones para los 3 grupos (datos originales, datos de\n",
    "entrenamiento, datos de prueba).</h5>"
   ]
  },
  {
   "cell_type": "code",
   "execution_count": 122,
   "metadata": {},
   "outputs": [
    {
     "name": "stdout",
     "output_type": "stream",
     "text": [
      "Datos Originales:  HighPrice\n",
      "0    0.502415\n",
      "1    0.497585\n",
      "Name: proportion, dtype: float64\n",
      "Datos de entrenamiento:  HighPrice\n",
      "0    0.506944\n",
      "1    0.493056\n",
      "Name: proportion, dtype: float64\n",
      "Datos de prueba:  HighPrice\n",
      "1    0.5157\n",
      "0    0.4843\n",
      "Name: proportion, dtype: float64\n"
     ]
    }
   ],
   "source": [
    "from sklearn.model_selection import train_test_split\n",
    "X = df.drop(columns=['price', 'HighPrice'])\n",
    "y = df['HighPrice']\n",
    "X_train, X_test, y_train, y_test = train_test_split(X, y, test_size=0.2, random_state=42)\n",
    "#Impresion de porcentajes de cada clase de HighPrice en los datos originales, entrenamiento y de prueba\n",
    "print(f\"Datos Originales: \",y.value_counts(normalize=True))\n",
    "print(f\"Datos de entrenamiento: \",y_train.value_counts(normalize=True))\n",
    "print(f\"Datos de prueba: \",y_test.value_counts(normalize=True))"
   ]
  },
  {
   "cell_type": "markdown",
   "metadata": {},
   "source": [
    "<h5>3. Usando los datos de entrenamiento, mide la exactitud de un modelo de regresión logística\n",
    "usando alguna técnica de validación cruzada. Si tu base de datos era particularmente\n",
    "compleja, puedes trabajar con 5 características de interés, en vez de con toda la base de\n",
    "datos, o de tener que realizar un proceso de selección de características</h5>"
   ]
  },
  {
   "cell_type": "code",
   "execution_count": 123,
   "metadata": {},
   "outputs": [
    {
     "name": "stdout",
     "output_type": "stream",
     "text": [
      "Características seleccionadas: ['bedrooms', 'bathrooms', 'sqft_living', 'floors', 'sqft_above']\n",
      "Exactitud en validación cruzada del modelo: 0.7650950317380032\n"
     ]
    }
   ],
   "source": [
    "from sklearn.linear_model import LogisticRegression\n",
    "from sklearn.model_selection import StratifiedKFold, cross_val_score\n",
    "from sklearn.feature_selection import SelectKBest, f_classif\n",
    "from sklearn.preprocessing import StandardScaler\n",
    "\n",
    "#Escalador de datos por problemas de convergencia\n",
    "scaler = StandardScaler()\n",
    "X_train = scaler.fit_transform(X_train)\n",
    "X_test = scaler.transform(X_test)\n",
    "\n",
    "\n",
    "modelo = LogisticRegression(solver='saga', penalty=None, class_weight='balanced')\n",
    "#Validacion cruzada Kfold\n",
    "selector = SelectKBest(score_func=f_classif, k=5)\n",
    "X_train_seleccionadas = selector.fit_transform(X_train, y_train)\n",
    "X_test_seleccionadas = selector.transform(X_test)\n",
    "variables_seleccionadas = X.columns[selector.get_support()]\n",
    "print(\"Características seleccionadas:\", variables_seleccionadas.tolist())\n",
    "\n",
    "#Elegi usar k-fold en vez de LOOCV pues como hay muchos datos en el datasheet que pueda que termine cargando mucho la computadora.\n",
    "kfold = StratifiedKFold(n_splits=5, shuffle=True, random_state=42)\n",
    "#Exactitud del modelo de regresion logistica usando CV del kfold\n",
    "scores = cross_val_score(modelo,X_train, y_train, cv=kfold, scoring='accuracy')\n",
    "print(f\"Exactitud en validación cruzada del modelo:\", np.mean(scores))\n"
   ]
  },
  {
   "cell_type": "markdown",
   "metadata": {},
   "source": [
    "<h5>4. Entrena un modelo de regresión logística, similar al del punto anterior, pero utilizando\n",
    "todo el subconjunto de datos de entrenamiento. Usando dicho modelo, genera un vector\n",
    "de probabilidades para los datos de prueba. Genera una matriz de confusión y reporta la\n",
    "exactitud, sensibilidad y especificidad del modelo antes 3 diferentes umbrales (0.5, uno\n",
    "mayor, y uno menor).</h5>"
   ]
  },
  {
   "cell_type": "code",
   "execution_count": 124,
   "metadata": {},
   "outputs": [
    {
     "name": "stdout",
     "output_type": "stream",
     "text": [
      "Umbral: 0.5 | Exactitud: 0.7150 | Sensibilidad: 0.6604 | Especificidad: 0.7731\n",
      "[[310  91]\n",
      " [145 282]]\n",
      "Umbral: 0.6 | Exactitud: 0.6981 | Sensibilidad: 0.5433 | Especificidad: 0.8628\n",
      "[[346  55]\n",
      " [195 232]]\n",
      "Umbral: 0.4 | Exactitud: 0.7150 | Sensibilidad: 0.7705 | Especificidad: 0.6559\n",
      "[[263 138]\n",
      " [ 98 329]]\n"
     ]
    }
   ],
   "source": [
    "from sklearn.metrics import confusion_matrix, accuracy_score, recall_score\n",
    "#Entrenamiento del modelo\n",
    "modelo.fit(X_train_seleccionadas, y_train)\n",
    "y_prob = modelo.predict_proba(X_test_seleccionadas)[:, 1]\n",
    "\n",
    "#umbrales (0.5, 0.6(mayor), 0.4(menor))\n",
    "umbrales = [0.5, 0.6, 0.4]\n",
    "for t in umbrales:\n",
    "    y_pred = (y_prob >= t).astype(int)\n",
    "    cm = confusion_matrix(y_test, y_pred)\n",
    "    exactitud = accuracy_score(y_test, y_pred)\n",
    "    sensibilidad = recall_score(y_test, y_pred)\n",
    "    especificidad = recall_score(y_test, y_pred, pos_label=0)\n",
    "    print(f'Umbral: {t} | Exactitud: {exactitud:.4f} | Sensibilidad: {sensibilidad:.4f} | Especificidad: {especificidad:.4f}')\n",
    "    print(cm)"
   ]
  },
  {
   "cell_type": "markdown",
   "metadata": {},
   "source": [
    "<h5>5. Grafica la curva ROC para las probabilidades calculadas en el punto previo y reporta el\n",
    "valor de la AUC.</h5>\n",
    "El AUC es de 0.79 por lo que se podria interpretar que el modelo es aceptable ya que esta mas cerca al 1 por lo que el modelo es capaz de distinguir correctamente entre casas de alto precio o baratas, aunque tambien podria mejorar su rendimiento para obtener un mejor rendimiento."
   ]
  },
  {
   "cell_type": "code",
   "execution_count": 125,
   "metadata": {},
   "outputs": [
    {
     "data": {
      "text/plain": [
       "<matplotlib.legend.Legend at 0x1cf2e26d950>"
      ]
     },
     "execution_count": 125,
     "metadata": {},
     "output_type": "execute_result"
    },
    {
     "data": {
      "image/png": "[encoded data removed]",
      "text/plain": [
       "<Figure size 640x480 with 1 Axes>"
      ]
     },
     "metadata": {},
     "output_type": "display_data"
    }
   ],
   "source": [
    "from sklearn.metrics import roc_curve, auc\n",
    "fpr, tpr, _ = roc_curve(y_test, y_prob)\n",
    "roc_auc = auc(fpr, tpr)\n",
    "plt.figure()\n",
    "plt.plot(fpr, tpr, color='blue', lw=2, label=f'curva ROC (AUC = {roc_auc:.2f})')\n",
    "plt.plot([0, 1], [0, 1], color='gray', linestyle='--')\n",
    "plt.xlabel('Tasa de Falsos Positivos')\n",
    "plt.ylabel('Tasa de Verdaderos Positivos')\n",
    "plt.title('Curva ROC')\n",
    "plt.legend()\n"
   ]
  },
  {
   "cell_type": "markdown",
   "metadata": {},
   "source": [
    "<h5>6. Interpreta los resultados del modelo, describiendo cómo es que cada variable afecta a la\n",
    "salida, en términos de los coeficientes generados</h5>\n",
    "Con las 5 variables seleccionadas por la seleccion de caracteristicas podemos interpretar de los resultados de los coeficientes obtenidos:\n",
    "\n",
    "\"sqrt_living\" = Esta variable con un coeficiente de 2.11 representa que tiene un alto impacto en aumentar la posibilidad de que la casa tenga un alto precio.\n",
    "\n",
    "\"floors\": Con un coeficiente de 0.2984, da a entender que el numero de pisos de las casas si tiene un impacto en terminar siendo una casa con alto precio pero su impacto no es tan grande como \"sqrt_living\"\n",
    "\n",
    "\"bathrooms\": El numero de baños con un coeficiente de 0.064 tiene un impacto en las casas de alto precio pero es muy bajo.\n",
    "\n",
    "\"bedrooms\": El numero de recamaras de acuerdo con los resultados de un coeficiente negativo de -0.23 disminuyen la probabilidad de que la casa sea de alto precio por lo que se podria deber a que posiblemente los cuartos tengan poco espacio u otros factores.\n",
    "\n",
    "\"sqrt_above\" = El tamaño del sotano reduce la posibilidad de que la casa sea de alto precio por su coeficiente negativo de -0.49."
   ]
  },
  {
   "cell_type": "code",
   "execution_count": 126,
   "metadata": {},
   "outputs": [
    {
     "name": "stdout",
     "output_type": "stream",
     "text": [
      "Coeficientes del modelo de regresión logística:\n",
      "       Feature  Coefficient\n",
      "2  sqft_living     2.110085\n",
      "3       floors     0.298425\n",
      "1    bathrooms     0.064086\n",
      "0     bedrooms    -0.230858\n",
      "4   sqft_above    -0.491218\n"
     ]
    }
   ],
   "source": [
    "coef_df = pd.DataFrame({'Feature': variables_seleccionadas, 'Coefficient': modelo.coef_[0]})\n",
    "coef_df = coef_df.sort_values(by='Coefficient', ascending=False)\n",
    "print('Coeficientes del modelo de regresión logística:')\n",
    "print(coef_df)"
   ]
  }
 ],
 "metadata": {
  "kernelspec": {
   "display_name": "Python 3",
   "language": "python",
   "name": "python3"
  },
  "language_info": {
   "codemirror_mode": {
    "name": "ipython",
    "version": 3
   },
   "file_extension": ".py",
   "mimetype": "text/x-python",
   "name": "python",
   "nbconvert_exporter": "python",
   "pygments_lexer": "ipython3",
   "version": "3.13.1"
  }
 },
 "nbformat": 4,
 "nbformat_minor": 2
}
